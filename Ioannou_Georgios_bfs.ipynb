{
 "cells": [
  {
   "cell_type": "markdown",
   "metadata": {},
   "source": [
    "---\n",
    "\n",
    "# Ioannou_Georgios\n"
   ]
  },
  {
   "cell_type": "markdown",
   "metadata": {},
   "source": [
    "## Copyright © 2023 by Georgios Ioannou\n"
   ]
  },
  {
   "cell_type": "markdown",
   "metadata": {},
   "source": [
    "---\n",
    "\n",
    "<h1 align=\"center\"> Breadth First Search On A Grid </h1>\n"
   ]
  },
  {
   "cell_type": "markdown",
   "metadata": {},
   "source": [
    "---\n",
    "\n",
    "<h2 align=\"center\"> Problem Statement </h2>\n",
    "\n",
    "- Given a grid, starting cell, goal cell, and traversal directions from the user, use Breadth First Search to find the goal cell.\n"
   ]
  },
  {
   "cell_type": "markdown",
   "metadata": {},
   "source": [
    "---\n",
    "\n",
    "### Libraries\n"
   ]
  },
  {
   "cell_type": "code",
   "execution_count": 1,
   "metadata": {},
   "outputs": [],
   "source": [
    "# Import libraries.\n",
    "from collections import deque"
   ]
  },
  {
   "cell_type": "markdown",
   "metadata": {},
   "source": [
    "---\n",
    "\n",
    "### Function bfs()\n"
   ]
  },
  {
   "cell_type": "code",
   "execution_count": 2,
   "metadata": {},
   "outputs": [],
   "source": [
    "# Perform a Breadth-First Search (DFS) traversal on a 2D grid, starting from a specified cell (row, col).\n",
    "# Explore neighboring cells in a specified order (directions) and stop the traversal when a specified goal value is found.\n",
    "# The function keeps track of visited cells using a QUEUE DATA STRUCTURE.\n",
    "#\n",
    "# Preconditions:  1. The grid is a 2D grid representing the matrix.\n",
    "#                 2. start_row and start_col are integers representing the starting cell coordinates within the grid.\n",
    "#                 3. directions is a list of directions to traverse neighboring cells (i.e. [\"right\", \"left\", \"up\", \"down\"]).\n",
    "#                 4. goal is an integer indicating the value to search for.\n",
    "# Postconditions: 1. If the goa value is found within the grid, the function prints a message indicating the location of the goal and stops the BFS.\n",
    "#\n",
    "# Time Complexity:  O(N), where N is the number of cells in the grid.\n",
    "# Space Complexity: O(N), where N is the number of cells in the grid.\n",
    "\n",
    "\n",
    "def bfs(grid, start_row, start_col, directions, goal):\n",
    "    # Initialize a queue for BFS starting from the specified cell.\n",
    "    queue = deque([(start_row, start_col)])\n",
    "\n",
    "    moves = []\n",
    "\n",
    "    # Start the BFS traversal.\n",
    "    while queue:\n",
    "        # Dequeue the first cell in the queue.\n",
    "        row, col = queue.popleft()\n",
    "        # Mark the cell as visited.\n",
    "        visited[row][col] = True\n",
    "        # Print statement.\n",
    "        print(f\"Visiting cell with number: {grid[row][col]}\")\n",
    "        # Process the current cell.\n",
    "        current_value = grid[row][col]\n",
    "        final_traversal_summary.append(current_value)\n",
    "\n",
    "        # Check if the current cell's value matches the goal.\n",
    "        if current_value == goal:\n",
    "            print(f\"Found goal number {goal} at row {row} and col {col}\")\n",
    "            # Stop program when the target number is found.\n",
    "            return\n",
    "\n",
    "        # Define moves to explore neighboring cells.\n",
    "        for direction in directions:\n",
    "            if direction == \"right\":\n",
    "                moves.append((0, 1))\n",
    "            elif direction == \"left\":\n",
    "                moves.append((0, -1))\n",
    "            elif direction == \"up\":\n",
    "                moves.append((-1, 0))\n",
    "            elif direction == \"down\":\n",
    "                moves.append((1, 0))\n",
    "\n",
    "        # Explore neighboring cells.\n",
    "        for dr, dc in moves:\n",
    "            # Calculate the new row and column for exploration.\n",
    "            new_row, new_col = row + dr, col + dc\n",
    "\n",
    "            # If we do not exceed the grid boundaries and not visited.\n",
    "            if (\n",
    "                0 <= new_row < num_rows\n",
    "                and 0 <= new_col < num_cols\n",
    "                and not visited[new_row][new_col]\n",
    "            ):\n",
    "                # Enqueue the neighboring cell for future exploration\n",
    "                queue.append((new_row, new_col))\n",
    "                # Mark the neighboring cell as visited to avoid revisiting it\n",
    "                visited[new_row][new_col] = True"
   ]
  },
  {
   "cell_type": "markdown",
   "metadata": {},
   "source": [
    "---\n",
    "\n",
    "### Inputs\n"
   ]
  },
  {
   "cell_type": "code",
   "execution_count": 3,
   "metadata": {},
   "outputs": [],
   "source": [
    "# Grid.\n",
    "grid = [[1, 2, 3, 4, 5], [6, 7, 8, 9, 10], [11, 12, 13, 14, 15]]\n",
    "# Starting cell row.\n",
    "start_row = 0\n",
    "# Starting cell column.\n",
    "start_col = 0\n",
    "# Specify the directions of traversal.\n",
    "directions = [\"right\", \"down\", \"up\", \"left\"]\n",
    "# Goal to find.\n",
    "goal = 15"
   ]
  },
  {
   "cell_type": "markdown",
   "metadata": {},
   "source": [
    "---\n",
    "\n",
    "### Main driver program\n"
   ]
  },
  {
   "cell_type": "code",
   "execution_count": 4,
   "metadata": {},
   "outputs": [
    {
     "name": "stdout",
     "output_type": "stream",
     "text": [
      "BFS on the grid: [[1, 2, 3, 4, 5], [6, 7, 8, 9, 10], [11, 12, 13, 14, 15]]\n",
      "--------------------------------------------------\n",
      "Starting at cell with number: 1\n",
      "--------------------------------------------------\n",
      "Searching for goal number: 15\n",
      "--------------------------------------------------\n",
      "START\n",
      "--------------------------------------------------\n",
      "Visiting cell with number: 1\n",
      "Visiting cell with number: 2\n",
      "Visiting cell with number: 6\n",
      "Visiting cell with number: 3\n",
      "Visiting cell with number: 7\n",
      "Visiting cell with number: 11\n",
      "Visiting cell with number: 4\n",
      "Visiting cell with number: 8\n",
      "Visiting cell with number: 12\n",
      "Visiting cell with number: 5\n",
      "Visiting cell with number: 9\n",
      "Visiting cell with number: 13\n",
      "Visiting cell with number: 10\n",
      "Visiting cell with number: 14\n",
      "Visiting cell with number: 15\n",
      "Found goal number 15 at row 2 and col 4\n",
      "--------------------------------------------------\n",
      "END\n",
      "--------------------------------------------------\n",
      "BFS TRAVERSAL SUMMARY\n",
      "--------------------------------------------------\n",
      "1 -> 2 -> 6 -> 3 -> 7 -> 11 -> 4 -> 8 -> 12 -> 5 -> 9 -> 13 -> 10 -> 14 -> 15"
     ]
    }
   ],
   "source": [
    "# Get the number of rows and columns in the grid.\n",
    "num_rows = len(grid)\n",
    "num_cols = len(grid[0])\n",
    "# Create a matrix to track visited cells, initialized to False.\n",
    "visited = [[False] * num_cols for _ in range(num_rows)]\n",
    "# Summary of traversed cells.\n",
    "final_traversal_summary = []\n",
    "\n",
    "# Print statements.\n",
    "print(f\"BFS on the grid: {grid}\")\n",
    "print(\"-\" * 50)\n",
    "print(f\"Starting at cell with number: {grid[start_row][start_col]}\")\n",
    "print(\"-\" * 50)\n",
    "print(f\"Searching for goal number: {goal}\")\n",
    "print(\"-\" * 50)\n",
    "print(\"START\")\n",
    "print(\"-\" * 50)\n",
    "\n",
    "# Call to bfs.\n",
    "bfs(\n",
    "    grid=grid,\n",
    "    start_row=start_row,\n",
    "    start_col=start_col,\n",
    "    directions=directions,\n",
    "    goal=goal,\n",
    ")\n",
    "\n",
    "# Print statements.\n",
    "print(\"-\" * 50)\n",
    "print(\"END\")\n",
    "print(\"-\" * 50)\n",
    "print(\"BFS TRAVERSAL SUMMARY\")\n",
    "print(\"-\" * 50)\n",
    "\n",
    "# Print statements.\n",
    "counter = 1\n",
    "for traversal in final_traversal_summary:\n",
    "    if counter < len(final_traversal_summary):\n",
    "        print(f\"{traversal} -> \", end=\"\")\n",
    "    elif counter == len(final_traversal_summary):\n",
    "        print(f\"{traversal}\", end=\"\")\n",
    "    counter += 1"
   ]
  }
 ],
 "metadata": {
  "kernelspec": {
   "display_name": ".ctp-venv",
   "language": "python",
   "name": "python3"
  },
  "language_info": {
   "codemirror_mode": {
    "name": "ipython",
    "version": 3
   },
   "file_extension": ".py",
   "mimetype": "text/x-python",
   "name": "python",
   "nbconvert_exporter": "python",
   "pygments_lexer": "ipython3",
   "version": "3.10.9"
  }
 },
 "nbformat": 4,
 "nbformat_minor": 2
}
