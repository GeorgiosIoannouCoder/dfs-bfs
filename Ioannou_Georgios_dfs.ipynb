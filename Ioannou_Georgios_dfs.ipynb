{
 "cells": [
  {
   "cell_type": "markdown",
   "metadata": {},
   "source": [
    "---\n",
    "\n",
    "# Ioannou_Georgios\n"
   ]
  },
  {
   "cell_type": "markdown",
   "metadata": {},
   "source": [
    "## Copyright © 2023 by Georgios Ioannou\n"
   ]
  },
  {
   "cell_type": "markdown",
   "metadata": {},
   "source": [
    "---\n",
    "\n",
    "<h1 align=\"center\"> Depth First Search On A Grid </h1>\n"
   ]
  },
  {
   "cell_type": "markdown",
   "metadata": {},
   "source": [
    "---\n",
    "\n",
    "<h2 align=\"center\"> Problem Statement </h2>\n",
    "\n",
    "- Given a grid, starting cell, goal cell, and traversal directions from the user, use Depth First Search to find the goal cell.\n"
   ]
  },
  {
   "cell_type": "markdown",
   "metadata": {},
   "source": [
    "---\n",
    "\n",
    "### Function dfs()\n"
   ]
  },
  {
   "cell_type": "code",
   "execution_count": 1,
   "metadata": {},
   "outputs": [],
   "source": [
    "# Perform a Depth-First Search (DFS) traversal on a 2D grid, starting from a specified cell (row, col).\n",
    "# Explore neighboring cells in a specified order (directions) and stop the traversal when a specified goal value is found.\n",
    "# The function keeps track of visited cells using a STACK DATA STRUCTURE, implemented with lists and produces a traversal summary of visited values.\n",
    "#\n",
    "# Preconditions:  1. The grid is a 2D grid representing the matrix.\n",
    "#                 2. row and col are integers representing the starting cell coordinates within the grid.\n",
    "#                 3. visited is a boolean matrix of the same dimensions as grid to keep track of visited cells.\n",
    "#                 4. directions is a list of directions to traverse neighboring cells (i.e. [\"right\", \"left\", \"up\", \"down\"]).\n",
    "#                 5. goal is an integer indicating the value to search for.\n",
    "# Postconditions: 1. The function explores the grid using a Depth-First Search algorithm.\n",
    "#                 2. The function marks cells as visited and produces a traversal summary of visited values.\n",
    "#\n",
    "# Time Complexity:  O(R * C), where R is the number of rows in the grid, and C is the number of columns in the grid.\n",
    "# Space Complexity: O(R * C), due to the visited matrix, where R is the number of rows and C is the number of columns in the grid.\n",
    "\n",
    "\n",
    "def dfs(grid, row, col, visited, directions, goal):\n",
    "    # Stop if cell has already been visited or target found.\n",
    "    if visited[row][col] or found[0]:\n",
    "        return\n",
    "\n",
    "    # Mark visited cells.\n",
    "    visited[row][col] = True\n",
    "\n",
    "    # Print statement.\n",
    "    print(f\"Visiting cell with number: {grid[row][col]}\")\n",
    "\n",
    "    # Process the current cell.\n",
    "    current_value = grid[row][col]\n",
    "    final_traversal_summary.append(current_value)\n",
    "\n",
    "    # if goal has been found, then set the flag to True to stop further traversal.\n",
    "    if current_value == goal:\n",
    "        print(f\"Found goal number {goal} at row {row} and col {col}\")\n",
    "        found[0] = True\n",
    "\n",
    "    # Set the direction of traversal.\n",
    "    for direction in directions:\n",
    "        if direction == \"right\":\n",
    "            d_row, d_col = 0, 1\n",
    "        elif direction == \"left\":\n",
    "            d_row, d_col = 0, -1\n",
    "        elif direction == \"up\":\n",
    "            d_row, d_col = -1, 0\n",
    "        elif direction == \"down\":\n",
    "            d_row, d_col = 1, 0\n",
    "\n",
    "        # Calculate the new row and column for exploration.\n",
    "        new_row, new_col = row + d_row, col + d_col\n",
    "\n",
    "        # If we do not exceed the grid boundaries make a recursive call to dfs.\n",
    "        if 0 <= new_row < len(grid) and 0 <= new_col < len(grid[0]):\n",
    "            dfs(\n",
    "                grid=grid,\n",
    "                row=new_row,\n",
    "                col=new_col,\n",
    "                visited=visited,\n",
    "                directions=directions,\n",
    "                goal=goal,\n",
    "            )"
   ]
  },
  {
   "cell_type": "markdown",
   "metadata": {},
   "source": [
    "---\n",
    "\n",
    "### Inputs\n"
   ]
  },
  {
   "cell_type": "code",
   "execution_count": 2,
   "metadata": {},
   "outputs": [],
   "source": [
    "# Grid.\n",
    "grid = [[1, 2, 3, 4, 5], [6, 7, 8, 9, 10], [11, 12, 13, 14, 15]]\n",
    "# Starting cell row.\n",
    "start_row = 0\n",
    "# Starting cell column.\n",
    "start_col = 0\n",
    "# Specify the directions of traversal.\n",
    "directions = [\"right\", \"down\", \"up\", \"left\"]\n",
    "# Goal to find.\n",
    "goal = 15"
   ]
  },
  {
   "cell_type": "markdown",
   "metadata": {},
   "source": [
    "---\n",
    "\n",
    "### Main driver program\n"
   ]
  },
  {
   "cell_type": "code",
   "execution_count": 3,
   "metadata": {},
   "outputs": [
    {
     "name": "stdout",
     "output_type": "stream",
     "text": [
      "DFS on the grid: [[1, 2, 3, 4, 5], [6, 7, 8, 9, 10], [11, 12, 13, 14, 15]]\n",
      "--------------------------------------------------\n",
      "Starting at cell with number: 1\n",
      "--------------------------------------------------\n",
      "Directions: ['right', 'down', 'up', 'left']\n",
      "--------------------------------------------------\n",
      "Searching for goal number: 15\n",
      "--------------------------------------------------\n",
      "START\n",
      "--------------------------------------------------\n",
      "Visiting cell with number: 1\n",
      "Visiting cell with number: 2\n",
      "Visiting cell with number: 3\n",
      "Visiting cell with number: 4\n",
      "Visiting cell with number: 5\n",
      "Visiting cell with number: 10\n",
      "Visiting cell with number: 15\n",
      "Found goal number 15 at row 2 and col 4\n",
      "--------------------------------------------------\n",
      "END\n",
      "--------------------------------------------------\n",
      "DFS TRAVERSAL SUMMARY\n",
      "--------------------------------------------------\n",
      "1 -> 2 -> 3 -> 4 -> 5 -> 10 -> 15"
     ]
    }
   ],
   "source": [
    "# Number of rows in the grid.\n",
    "num_rows = len(grid)\n",
    "# Number of columns in the grid.\n",
    "num_cols = len(grid[0])\n",
    "# Keep track of visited cells.\n",
    "visited = [[False for _ in range(num_cols)] for _ in range(num_rows)]\n",
    "# Summary of traversed cells.\n",
    "final_traversal_summary = []\n",
    "# Create a flag to indicate whether the target has been found\n",
    "found = [False]\n",
    "\n",
    "# Print statements.\n",
    "print(f\"DFS on the grid: {grid}\")\n",
    "print(\"-\" * 50)\n",
    "print(f\"Starting at cell with number: {grid[start_row][start_col]}\")\n",
    "print(\"-\" * 50)\n",
    "print(f\"Directions: {directions}\")\n",
    "print(\"-\" * 50)\n",
    "print(f\"Searching for goal number: {goal}\")\n",
    "print(\"-\" * 50)\n",
    "print(\"START\")\n",
    "print(\"-\" * 50)\n",
    "\n",
    "# Call to dfs.\n",
    "dfs(\n",
    "    grid=grid,\n",
    "    row=start_row,\n",
    "    col=start_col,\n",
    "    visited=visited,\n",
    "    directions=directions,\n",
    "    goal=goal,\n",
    ")\n",
    "\n",
    "# Print statements.\n",
    "print(\"-\" * 50)\n",
    "print(\"END\")\n",
    "print(\"-\" * 50)\n",
    "print(\"DFS TRAVERSAL SUMMARY\")\n",
    "print(\"-\" * 50)\n",
    "\n",
    "# Print statements.\n",
    "counter = 1\n",
    "for traversal in final_traversal_summary:\n",
    "    if counter < len(final_traversal_summary):\n",
    "        print(f\"{traversal} -> \", end=\"\")\n",
    "    elif counter == len(final_traversal_summary):\n",
    "        print(f\"{traversal}\", end=\"\")\n",
    "    counter += 1"
   ]
  }
 ],
 "metadata": {
  "kernelspec": {
   "display_name": ".ctp-venv",
   "language": "python",
   "name": "python3"
  },
  "language_info": {
   "codemirror_mode": {
    "name": "ipython",
    "version": 3
   },
   "file_extension": ".py",
   "mimetype": "text/x-python",
   "name": "python",
   "nbconvert_exporter": "python",
   "pygments_lexer": "ipython3",
   "version": "3.10.9"
  }
 },
 "nbformat": 4,
 "nbformat_minor": 2
}
